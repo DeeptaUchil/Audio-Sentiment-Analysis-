{
  "cells": [
    {
      "cell_type": "code",
      "execution_count": 2,
      "metadata": {
        "id": "9bRI0vGern1J"
      },
      "outputs": [],
      "source": [
        "import os\n",
        "import numpy as np\n",
        "import sys\n",
        "import pandas as pd\n",
        "import librosa\n",
        "import librosa.display\n",
        "import seaborn as sns\n",
        "import matplotlib.pyplot as plt\n",
        "from sklearn.model_selection import train_test_split\n",
        "from sklearn.preprocessing import LabelEncoder\n",
        "from tensorflow.keras.models import Sequential\n",
        "from tensorflow.keras.layers import Conv2D, MaxPooling2D, Flatten, Dense, Dropout, LSTM, TimeDistributed, Reshape\n",
        "from tensorflow.keras.layers import Bidirectional\n",
        "from tensorflow.keras.optimizers import Adam\n",
        "from tensorflow.keras.utils import to_categorical\n",
        "import keras\n",
        "from keras.callbacks import ReduceLROnPlateau, ModelCheckpoint, EarlyStopping\n",
        "from keras.models import Sequential\n",
        "from keras.layers import Dense, Conv1D, MaxPooling1D, Flatten, Dropout, BatchNormalization\n",
        "from keras.utils import to_categorical"
      ]
    },
    {
      "cell_type": "code",
      "execution_count": 3,
      "metadata": {
        "id": "QKwufHisbhAN"
      },
      "outputs": [],
      "source": [
        "PATH = '/content/drive/MyDrive/AudioWAV/'"
      ]
    },
    {
      "cell_type": "code",
      "execution_count": 4,
      "metadata": {
        "id": "Um_gLPymb24v"
      },
      "outputs": [],
      "source": [
        "# Step 1: Create DataFrame with file paths and emotions\n",
        "directory_list = os.listdir(PATH)\n",
        "\n",
        "file_emotion = []\n",
        "file_path = []\n",
        "\n",
        "for file in directory_list:\n",
        "    file_path.append(PATH + file)\n",
        "    part = file.split('_')\n",
        "    if part[2] == 'SAD':\n",
        "        file_emotion.append('sad')\n",
        "    elif part[2] == 'ANG':\n",
        "        file_emotion.append('angry')\n",
        "    elif part[2] == 'DIS':\n",
        "        file_emotion.append('disgust')\n",
        "    elif part[2] == 'FEA':\n",
        "        file_emotion.append('fear')\n",
        "    elif part[2] == 'HAP':\n",
        "        file_emotion.append('happy')\n",
        "    elif part[2] == 'NEU':\n",
        "        file_emotion.append('neutral')\n",
        "    else:\n",
        "        file_emotion.append('Unknown')"
      ]
    },
    {
      "cell_type": "code",
      "execution_count": 5,
      "metadata": {
        "colab": {
          "base_uri": "https://localhost:8080/"
        },
        "id": "jO_N5oD3b6Uu",
        "outputId": "4842a161-e07a-4e75-c985-8dd1911256c7"
      },
      "outputs": [
        {
          "output_type": "stream",
          "name": "stdout",
          "text": [
            "  Emotions                                               Path\n",
            "0  disgust  /content/drive/MyDrive/AudioWAV/1079_TIE_DIS_X...\n",
            "1    happy  /content/drive/MyDrive/AudioWAV/1079_TIE_HAP_X...\n",
            "2  neutral  /content/drive/MyDrive/AudioWAV/1079_WSI_NEU_X...\n",
            "3     fear  /content/drive/MyDrive/AudioWAV/1079_WSI_FEA_X...\n",
            "4    angry  /content/drive/MyDrive/AudioWAV/1079_TSI_ANG_X...\n"
          ]
        }
      ],
      "source": [
        "emotion_df = pd.DataFrame(file_emotion, columns=['Emotions'])\n",
        "path_df = pd.DataFrame(file_path, columns=['Path'])\n",
        "crema_df = pd.concat([emotion_df, path_df], axis=1)\n",
        "crema_df.to_csv(\"crema_df.csv\", index=False)\n",
        "print(crema_df.head())  # Display the first few rows of the DataFrame\n"
      ]
    },
    {
      "cell_type": "code",
      "execution_count": 6,
      "metadata": {
        "colab": {
          "base_uri": "https://localhost:8080/",
          "height": 472
        },
        "id": "UUHR0uiIK9zQ",
        "outputId": "e4bca2ff-4ba4-4ad8-cf1a-068c61fbfbdd"
      },
      "outputs": [
        {
          "output_type": "display_data",
          "data": {
            "text/plain": [
              "<Figure size 640x480 with 1 Axes>"
            ],
            "image/png": "[encoded data removed]"
          },
          "metadata": {}
        }
      ],
      "source": [
        "#Count of Emotions\n",
        "plt.title('Count of Emotions')\n",
        "sns.countplot(x = crema_df.Emotions)\n",
        "plt.ylabel('Count')\n",
        "plt.xlabel('Emotions')\n",
        "sns.despine(top = True, right = True, left = False, bottom = False)\n",
        "plt.show()"
      ]
    },
    {
      "cell_type": "code",
      "source": [
        "def noise(data):\n",
        "    noise_amp = 0.035 * np.random.uniform() * np.amax(data)\n",
        "    data = data + noise_amp * np.random.normal(size=data.shape[0])\n",
        "    return data\n",
        "\n",
        "def stretch(data, rate=0.8):\n",
        "    return librosa.effects.time_stretch(data, rate=rate)\n",
        "\n",
        "def shift(data):\n",
        "    shift_range = int(np.random.uniform(low=-5, high=5) * 1000)\n",
        "    return np.roll(data, shift_range)\n",
        "\n",
        "def pitch(data, sampling_rate, n_steps=0.7):\n",
        "    return librosa.effects.pitch_shift(data, sr=sampling_rate, n_steps=n_steps)\n",
        "path = np.array(crema_df.Path)[1]\n",
        "data, sample_rate = librosa.load(path)"
      ],
      "metadata": {
        "id": "Ik8SxX5BGago"
      },
      "execution_count": 23,
      "outputs": []
    },
    {
      "cell_type": "code",
      "execution_count": 24,
      "metadata": {
        "id": "nu3eupr0cHdC"
      },
      "outputs": [],
      "source": [
        "def extract_features(data):\n",
        "    result = np.array([])\n",
        "    mfcc = np.mean(librosa.feature.mfcc(y=data, sr=sample_rate, n_mfcc=20).T, axis=0)\n",
        "    result = np.hstack((result, mfcc))\n",
        "\n",
        "    # Additional features\n",
        "    zcr = np.mean(librosa.feature.zero_crossing_rate(y=data).T, axis=0)\n",
        "    result = np.hstack((result, zcr))\n",
        "\n",
        "    # Harmonic-to-Noise Ratio (HNR)\n",
        "    hnr = np.mean(librosa.feature.rms(y=data).T, axis=0)\n",
        "    result = np.hstack((result, hnr))\n",
        "\n",
        "    return result\n",
        "\n",
        "def get_features(path):\n",
        "    data, sample_rate = librosa.load(path, duration = 2.5, offset = 0.6)\n",
        "\n",
        "    res1 = extract_features(data)\n",
        "    result = np.array(res1)\n",
        "\n",
        "    noise_data = noise(data)\n",
        "    res2 = extract_features(noise_data)\n",
        "    result = np.vstack((result, res2))\n",
        "\n",
        "    lowspeed_data = stretch(data, rate = 0.7)\n",
        "    res3 = extract_features(lowspeed_data)\n",
        "    result = np.vstack((result, res3))\n",
        "\n",
        "    highspeed_data = stretch(data, rate = 1.25)\n",
        "    res4 = extract_features(highspeed_data)\n",
        "    result = np.vstack((result, res4))\n",
        "\n",
        "    pitch_data = pitch(data, sample_rate, n_steps = 0.8)\n",
        "    res5 = extract_features(pitch_data)\n",
        "    result = np.vstack((result, res5))\n",
        "\n",
        "    shift_data = shift(data)\n",
        "    res6 = extract_features(shift_data)\n",
        "    result = np.vstack((result, res6))\n",
        "\n",
        "    return result"
      ]
    },
    {
      "cell_type": "code",
      "execution_count": 25,
      "metadata": {
        "id": "VlAFnzP4cbh8"
      },
      "outputs": [],
      "source": [
        "X, Y = [], []\n",
        "for path, emotion in zip(crema_df.Path, crema_df.Emotions):\n",
        "    feature = get_features(path)\n",
        "    for ele in feature:\n",
        "        X.append(ele)\n",
        "        Y.append(emotion)"
      ]
    },
    {
      "cell_type": "code",
      "execution_count": 26,
      "metadata": {
        "id": "Ru9HSxZwlqx5"
      },
      "outputs": [],
      "source": [
        "from concurrent.futures import ThreadPoolExecutor\n",
        "\n",
        "def process_audio_file(path, emotion, X, Y):\n",
        "    feature = get_features(path)\n",
        "    for ele in feature:\n",
        "        X.append(ele)\n",
        "        Y.append(emotion)\n",
        "    return (path, emotion)\n",
        "\n",
        "if __name__ == \"__main__\":\n",
        "    X, Y = [], []\n",
        "    with ThreadPoolExecutor() as executor:\n",
        "        futures = []\n",
        "        for path, emotion in zip(crema_df.Path, crema_df.Emotions):\n",
        "            future = executor.submit(process_audio_file, path, emotion, X, Y)\n",
        "            futures.append(future)\n",
        "\n",
        "        for future in futures:\n",
        "            path, emotion = future.result()"
      ]
    },
    {
      "cell_type": "code",
      "source": [
        "features = pd.DataFrame(X)\n",
        "features['labels'] = Y\n",
        "features.to_csv('features.csv', index = False)\n",
        "features.head()"
      ],
      "metadata": {
        "colab": {
          "base_uri": "https://localhost:8080/",
          "height": 255
        },
        "id": "nAKDM0Qqe1_G",
        "outputId": "731923c3-fe59-443b-942c-32c40f7face8"
      },
      "execution_count": 27,
      "outputs": [
        {
          "output_type": "execute_result",
          "data": {
            "text/plain": [
              "            0           1          2          3          4          5  \\\n",
              "0 -391.403351  137.468567  -0.414460  46.903652 -19.687508  22.560968   \n",
              "1 -293.830268   59.813140  26.111250  13.313392   4.955440   2.458985   \n",
              "2 -423.341095  130.657974   3.193319  41.197994 -16.222218  18.166931   \n",
              "3 -417.876862  135.119965  -0.818793  42.184807 -16.355312  20.888918   \n",
              "4 -414.400879  129.420639   4.378838  35.489006 -15.442673  16.127428   \n",
              "\n",
              "           6          7          8          9  ...         13        14  \\\n",
              "0 -19.923321  13.531672 -10.622375   7.332146  ... -10.968557  7.913958   \n",
              "1  -2.344540   1.348102  -0.684769   2.735689  ...  -2.911822 -1.286670   \n",
              "2 -18.252106  10.937483  -9.085070   6.533459  ... -10.304187  7.081038   \n",
              "3 -18.252794  11.481102 -10.520505   6.608838  ...  -9.970866  8.031431   \n",
              "4 -16.291025  12.687508 -11.371362  11.638647  ...  -5.526564  4.177160   \n",
              "\n",
              "          15        16         17        18        19        20        21  \\\n",
              "0 -12.269460  3.506327  -9.307921 -2.512387 -0.656167  0.096560  0.014977   \n",
              "1  -4.280061 -3.348865  -3.726168 -4.021437 -1.316403  0.182435  0.015475   \n",
              "2 -11.003271  2.580742  -7.939143 -2.876927  0.251665  0.104594  0.010518   \n",
              "3 -11.223002  2.641624  -9.096037 -4.264453 -0.663581  0.092799  0.011174   \n",
              "4 -12.523297  2.079585 -11.117249  2.008121 -2.785154  0.102601  0.011053   \n",
              "\n",
              "    labels  \n",
              "0  neutral  \n",
              "1  neutral  \n",
              "2  neutral  \n",
              "3  neutral  \n",
              "4  neutral  \n",
              "\n",
              "[5 rows x 23 columns]"
            ],
            "text/html": [
              "\n",
              "  <div id=\"df-a38a2473-7e08-4e95-9a6e-30a446cc6520\" class=\"colab-df-container\">\n",
              "    <div>\n",
              "<style scoped>\n",
              "    .dataframe tbody tr th:only-of-type {\n",
              "        vertical-align: middle;\n",
              "    }\n",
              "\n",
              "    .dataframe tbody tr th {\n",
              "        vertical-align: top;\n",
              "    }\n",
              "\n",
              "    .dataframe thead th {\n",
              "        text-align: right;\n",
              "    }\n",
              "</style>\n",
              "<table border=\"1\" class=\"dataframe\">\n",
              "  <thead>\n",
              "    <tr style=\"text-align: right;\">\n",
              "      <th></th>\n",
              "      <th>0</th>\n",
              "      <th>1</th>\n",
              "      <th>2</th>\n",
              "      <th>3</th>\n",
              "      <th>4</th>\n",
              "      <th>5</th>\n",
              "      <th>6</th>\n",
              "      <th>7</th>\n",
              "      <th>8</th>\n",
              "      <th>9</th>\n",
              "      <th>...</th>\n",
              "      <th>13</th>\n",
              "      <th>14</th>\n",
              "      <th>15</th>\n",
              "      <th>16</th>\n",
              "      <th>17</th>\n",
              "      <th>18</th>\n",
              "      <th>19</th>\n",
              "      <th>20</th>\n",
              "      <th>21</th>\n",
              "      <th>labels</th>\n",
              "    </tr>\n",
              "  </thead>\n",
              "  <tbody>\n",
              "    <tr>\n",
              "      <th>0</th>\n",
              "      <td>-391.403351</td>\n",
              "      <td>137.468567</td>\n",
              "      <td>-0.414460</td>\n",
              "      <td>46.903652</td>\n",
              "      <td>-19.687508</td>\n",
              "      <td>22.560968</td>\n",
              "      <td>-19.923321</td>\n",
              "      <td>13.531672</td>\n",
              "      <td>-10.622375</td>\n",
              "      <td>7.332146</td>\n",
              "      <td>...</td>\n",
              "      <td>-10.968557</td>\n",
              "      <td>7.913958</td>\n",
              "      <td>-12.269460</td>\n",
              "      <td>3.506327</td>\n",
              "      <td>-9.307921</td>\n",
              "      <td>-2.512387</td>\n",
              "      <td>-0.656167</td>\n",
              "      <td>0.096560</td>\n",
              "      <td>0.014977</td>\n",
              "      <td>neutral</td>\n",
              "    </tr>\n",
              "    <tr>\n",
              "      <th>1</th>\n",
              "      <td>-293.830268</td>\n",
              "      <td>59.813140</td>\n",
              "      <td>26.111250</td>\n",
              "      <td>13.313392</td>\n",
              "      <td>4.955440</td>\n",
              "      <td>2.458985</td>\n",
              "      <td>-2.344540</td>\n",
              "      <td>1.348102</td>\n",
              "      <td>-0.684769</td>\n",
              "      <td>2.735689</td>\n",
              "      <td>...</td>\n",
              "      <td>-2.911822</td>\n",
              "      <td>-1.286670</td>\n",
              "      <td>-4.280061</td>\n",
              "      <td>-3.348865</td>\n",
              "      <td>-3.726168</td>\n",
              "      <td>-4.021437</td>\n",
              "      <td>-1.316403</td>\n",
              "      <td>0.182435</td>\n",
              "      <td>0.015475</td>\n",
              "      <td>neutral</td>\n",
              "    </tr>\n",
              "    <tr>\n",
              "      <th>2</th>\n",
              "      <td>-423.341095</td>\n",
              "      <td>130.657974</td>\n",
              "      <td>3.193319</td>\n",
              "      <td>41.197994</td>\n",
              "      <td>-16.222218</td>\n",
              "      <td>18.166931</td>\n",
              "      <td>-18.252106</td>\n",
              "      <td>10.937483</td>\n",
              "      <td>-9.085070</td>\n",
              "      <td>6.533459</td>\n",
              "      <td>...</td>\n",
              "      <td>-10.304187</td>\n",
              "      <td>7.081038</td>\n",
              "      <td>-11.003271</td>\n",
              "      <td>2.580742</td>\n",
              "      <td>-7.939143</td>\n",
              "      <td>-2.876927</td>\n",
              "      <td>0.251665</td>\n",
              "      <td>0.104594</td>\n",
              "      <td>0.010518</td>\n",
              "      <td>neutral</td>\n",
              "    </tr>\n",
              "    <tr>\n",
              "      <th>3</th>\n",
              "      <td>-417.876862</td>\n",
              "      <td>135.119965</td>\n",
              "      <td>-0.818793</td>\n",
              "      <td>42.184807</td>\n",
              "      <td>-16.355312</td>\n",
              "      <td>20.888918</td>\n",
              "      <td>-18.252794</td>\n",
              "      <td>11.481102</td>\n",
              "      <td>-10.520505</td>\n",
              "      <td>6.608838</td>\n",
              "      <td>...</td>\n",
              "      <td>-9.970866</td>\n",
              "      <td>8.031431</td>\n",
              "      <td>-11.223002</td>\n",
              "      <td>2.641624</td>\n",
              "      <td>-9.096037</td>\n",
              "      <td>-4.264453</td>\n",
              "      <td>-0.663581</td>\n",
              "      <td>0.092799</td>\n",
              "      <td>0.011174</td>\n",
              "      <td>neutral</td>\n",
              "    </tr>\n",
              "    <tr>\n",
              "      <th>4</th>\n",
              "      <td>-414.400879</td>\n",
              "      <td>129.420639</td>\n",
              "      <td>4.378838</td>\n",
              "      <td>35.489006</td>\n",
              "      <td>-15.442673</td>\n",
              "      <td>16.127428</td>\n",
              "      <td>-16.291025</td>\n",
              "      <td>12.687508</td>\n",
              "      <td>-11.371362</td>\n",
              "      <td>11.638647</td>\n",
              "      <td>...</td>\n",
              "      <td>-5.526564</td>\n",
              "      <td>4.177160</td>\n",
              "      <td>-12.523297</td>\n",
              "      <td>2.079585</td>\n",
              "      <td>-11.117249</td>\n",
              "      <td>2.008121</td>\n",
              "      <td>-2.785154</td>\n",
              "      <td>0.102601</td>\n",
              "      <td>0.011053</td>\n",
              "      <td>neutral</td>\n",
              "    </tr>\n",
              "  </tbody>\n",
              "</table>\n",
              "<p>5 rows × 23 columns</p>\n",
              "</div>\n",
              "    <div class=\"colab-df-buttons\">\n",
              "\n",
              "  <div class=\"colab-df-container\">\n",
              "    <button class=\"colab-df-convert\" onclick=\"convertToInteractive('df-a38a2473-7e08-4e95-9a6e-30a446cc6520')\"\n",
              "            title=\"Convert this dataframe to an interactive table.\"\n",
              "            style=\"display:none;\">\n",
              "\n",
              "  <svg xmlns=\"http://www.w3.org/2000/svg\" height=\"24px\" viewBox=\"0 -960 960 960\">\n",
              "    <path d=\"M120-120v-720h720v720H120Zm60-500h600v-160H180v160Zm220 220h160v-160H400v160Zm0 220h160v-160H400v160ZM180-400h160v-160H180v160Zm440 0h160v-160H620v160ZM180-180h160v-160H180v160Zm440 0h160v-160H620v160Z\"/>\n",
              "  </svg>\n",
              "    </button>\n",
              "\n",
              "  <style>\n",
              "    .colab-df-container {\n",
              "      display:flex;\n",
              "      gap: 12px;\n",
              "    }\n",
              "\n",
              "    .colab-df-convert {\n",
              "      background-color: #E8F0FE;\n",
              "      border: none;\n",
              "      border-radius: 50%;\n",
              "      cursor: pointer;\n",
              "      display: none;\n",
              "      fill: #1967D2;\n",
              "      height: 32px;\n",
              "      padding: 0 0 0 0;\n",
              "      width: 32px;\n",
              "    }\n",
              "\n",
              "    .colab-df-convert:hover {\n",
              "      background-color: #E2EBFA;\n",
              "      box-shadow: 0px 1px 2px rgba(60, 64, 67, 0.3), 0px 1px 3px 1px rgba(60, 64, 67, 0.15);\n",
              "      fill: #174EA6;\n",
              "    }\n",
              "\n",
              "    .colab-df-buttons div {\n",
              "      margin-bottom: 4px;\n",
              "    }\n",
              "\n",
              "    [theme=dark] .colab-df-convert {\n",
              "      background-color: #3B4455;\n",
              "      fill: #D2E3FC;\n",
              "    }\n",
              "\n",
              "    [theme=dark] .colab-df-convert:hover {\n",
              "      background-color: #434B5C;\n",
              "      box-shadow: 0px 1px 3px 1px rgba(0, 0, 0, 0.15);\n",
              "      filter: drop-shadow(0px 1px 2px rgba(0, 0, 0, 0.3));\n",
              "      fill: #FFFFFF;\n",
              "    }\n",
              "  </style>\n",
              "\n",
              "    <script>\n",
              "      const buttonEl =\n",
              "        document.querySelector('#df-a38a2473-7e08-4e95-9a6e-30a446cc6520 button.colab-df-convert');\n",
              "      buttonEl.style.display =\n",
              "        google.colab.kernel.accessAllowed ? 'block' : 'none';\n",
              "\n",
              "      async function convertToInteractive(key) {\n",
              "        const element = document.querySelector('#df-a38a2473-7e08-4e95-9a6e-30a446cc6520');\n",
              "        const dataTable =\n",
              "          await google.colab.kernel.invokeFunction('convertToInteractive',\n",
              "                                                    [key], {});\n",
              "        if (!dataTable) return;\n",
              "\n",
              "        const docLinkHtml = 'Like what you see? Visit the ' +\n",
              "          '<a target=\"_blank\" href=https://colab.research.google.com/notebooks/data_table.ipynb>data table notebook</a>'\n",
              "          + ' to learn more about interactive tables.';\n",
              "        element.innerHTML = '';\n",
              "        dataTable['output_type'] = 'display_data';\n",
              "        await google.colab.output.renderOutput(dataTable, element);\n",
              "        const docLink = document.createElement('div');\n",
              "        docLink.innerHTML = docLinkHtml;\n",
              "        element.appendChild(docLink);\n",
              "      }\n",
              "    </script>\n",
              "  </div>\n",
              "\n",
              "\n",
              "<div id=\"df-7573ac7b-dbcd-44db-944a-e8ea6caa53f6\">\n",
              "  <button class=\"colab-df-quickchart\" onclick=\"quickchart('df-7573ac7b-dbcd-44db-944a-e8ea6caa53f6')\"\n",
              "            title=\"Suggest charts\"\n",
              "            style=\"display:none;\">\n",
              "\n",
              "<svg xmlns=\"http://www.w3.org/2000/svg\" height=\"24px\"viewBox=\"0 0 24 24\"\n",
              "     width=\"24px\">\n",
              "    <g>\n",
              "        <path d=\"M19 3H5c-1.1 0-2 .9-2 2v14c0 1.1.9 2 2 2h14c1.1 0 2-.9 2-2V5c0-1.1-.9-2-2-2zM9 17H7v-7h2v7zm4 0h-2V7h2v10zm4 0h-2v-4h2v4z\"/>\n",
              "    </g>\n",
              "</svg>\n",
              "  </button>\n",
              "\n",
              "<style>\n",
              "  .colab-df-quickchart {\n",
              "      --bg-color: #E8F0FE;\n",
              "      --fill-color: #1967D2;\n",
              "      --hover-bg-color: #E2EBFA;\n",
              "      --hover-fill-color: #174EA6;\n",
              "      --disabled-fill-color: #AAA;\n",
              "      --disabled-bg-color: #DDD;\n",
              "  }\n",
              "\n",
              "  [theme=dark] .colab-df-quickchart {\n",
              "      --bg-color: #3B4455;\n",
              "      --fill-color: #D2E3FC;\n",
              "      --hover-bg-color: #434B5C;\n",
              "      --hover-fill-color: #FFFFFF;\n",
              "      --disabled-bg-color: #3B4455;\n",
              "      --disabled-fill-color: #666;\n",
              "  }\n",
              "\n",
              "  .colab-df-quickchart {\n",
              "    background-color: var(--bg-color);\n",
              "    border: none;\n",
              "    border-radius: 50%;\n",
              "    cursor: pointer;\n",
              "    display: none;\n",
              "    fill: var(--fill-color);\n",
              "    height: 32px;\n",
              "    padding: 0;\n",
              "    width: 32px;\n",
              "  }\n",
              "\n",
              "  .colab-df-quickchart:hover {\n",
              "    background-color: var(--hover-bg-color);\n",
              "    box-shadow: 0 1px 2px rgba(60, 64, 67, 0.3), 0 1px 3px 1px rgba(60, 64, 67, 0.15);\n",
              "    fill: var(--button-hover-fill-color);\n",
              "  }\n",
              "\n",
              "  .colab-df-quickchart-complete:disabled,\n",
              "  .colab-df-quickchart-complete:disabled:hover {\n",
              "    background-color: var(--disabled-bg-color);\n",
              "    fill: var(--disabled-fill-color);\n",
              "    box-shadow: none;\n",
              "  }\n",
              "\n",
              "  .colab-df-spinner {\n",
              "    border: 2px solid var(--fill-color);\n",
              "    border-color: transparent;\n",
              "    border-bottom-color: var(--fill-color);\n",
              "    animation:\n",
              "      spin 1s steps(1) infinite;\n",
              "  }\n",
              "\n",
              "  @keyframes spin {\n",
              "    0% {\n",
              "      border-color: transparent;\n",
              "      border-bottom-color: var(--fill-color);\n",
              "      border-left-color: var(--fill-color);\n",
              "    }\n",
              "    20% {\n",
              "      border-color: transparent;\n",
              "      border-left-color: var(--fill-color);\n",
              "      border-top-color: var(--fill-color);\n",
              "    }\n",
              "    30% {\n",
              "      border-color: transparent;\n",
              "      border-left-color: var(--fill-color);\n",
              "      border-top-color: var(--fill-color);\n",
              "      border-right-color: var(--fill-color);\n",
              "    }\n",
              "    40% {\n",
              "      border-color: transparent;\n",
              "      border-right-color: var(--fill-color);\n",
              "      border-top-color: var(--fill-color);\n",
              "    }\n",
              "    60% {\n",
              "      border-color: transparent;\n",
              "      border-right-color: var(--fill-color);\n",
              "    }\n",
              "    80% {\n",
              "      border-color: transparent;\n",
              "      border-right-color: var(--fill-color);\n",
              "      border-bottom-color: var(--fill-color);\n",
              "    }\n",
              "    90% {\n",
              "      border-color: transparent;\n",
              "      border-bottom-color: var(--fill-color);\n",
              "    }\n",
              "  }\n",
              "</style>\n",
              "\n",
              "  <script>\n",
              "    async function quickchart(key) {\n",
              "      const quickchartButtonEl =\n",
              "        document.querySelector('#' + key + ' button');\n",
              "      quickchartButtonEl.disabled = true;  // To prevent multiple clicks.\n",
              "      quickchartButtonEl.classList.add('colab-df-spinner');\n",
              "      try {\n",
              "        const charts = await google.colab.kernel.invokeFunction(\n",
              "            'suggestCharts', [key], {});\n",
              "      } catch (error) {\n",
              "        console.error('Error during call to suggestCharts:', error);\n",
              "      }\n",
              "      quickchartButtonEl.classList.remove('colab-df-spinner');\n",
              "      quickchartButtonEl.classList.add('colab-df-quickchart-complete');\n",
              "    }\n",
              "    (() => {\n",
              "      let quickchartButtonEl =\n",
              "        document.querySelector('#df-7573ac7b-dbcd-44db-944a-e8ea6caa53f6 button');\n",
              "      quickchartButtonEl.style.display =\n",
              "        google.colab.kernel.accessAllowed ? 'block' : 'none';\n",
              "    })();\n",
              "  </script>\n",
              "</div>\n",
              "\n",
              "    </div>\n",
              "  </div>\n"
            ],
            "application/vnd.google.colaboratory.intrinsic+json": {
              "type": "dataframe",
              "variable_name": "features"
            }
          },
          "metadata": {},
          "execution_count": 27
        }
      ]
    },
    {
      "cell_type": "code",
      "source": [
        "X = features.iloc[: ,: -1].values\n",
        "Y = features['labels'].values"
      ],
      "metadata": {
        "id": "1PiPIuXee6f7"
      },
      "execution_count": 28,
      "outputs": []
    },
    {
      "cell_type": "code",
      "source": [
        "from sklearn.preprocessing import StandardScaler, OneHotEncoder\n",
        "encoder = OneHotEncoder()\n",
        "Y = encoder.fit_transform(np.array(Y).reshape(-1,1)).toarray()\n"
      ],
      "metadata": {
        "id": "Gywq1C2Se6vR"
      },
      "execution_count": 29,
      "outputs": []
    },
    {
      "cell_type": "code",
      "source": [
        "x_train, x_test, y_train, y_test = train_test_split(X, Y, random_state = 42, shuffle = True)"
      ],
      "metadata": {
        "id": "ixt-EOAAe65q"
      },
      "execution_count": 30,
      "outputs": []
    },
    {
      "cell_type": "code",
      "source": [
        "scaler = StandardScaler()\n",
        "x_train = scaler.fit_transform(x_train)\n",
        "x_test = scaler.transform(x_test)"
      ],
      "metadata": {
        "id": "wHI-YFcefNFq"
      },
      "execution_count": 31,
      "outputs": []
    },
    {
      "cell_type": "code",
      "source": [
        "x_train = np.expand_dims(x_train, axis=2)\n",
        "x_test = np.expand_dims(x_test, axis=2)"
      ],
      "metadata": {
        "id": "zjIEpL4ZfNIo"
      },
      "execution_count": 32,
      "outputs": []
    },
    {
      "cell_type": "code",
      "source": [
        "from keras.models import Model\n",
        "from keras.layers import Input, Conv1D, MaxPooling1D, LSTM, Dense, Dropout, Reshape\n",
        "\n",
        "# Define input shape\n",
        "input_shape = (x_train.shape[1], 1)\n",
        "\n",
        "# Input Layer\n",
        "inputs = Input(shape=input_shape)\n",
        "\n",
        "# CNN Layers for feature extraction\n",
        "x = Conv1D(64, kernel_size=3, strides=1, padding='same', activation='relu')(inputs)\n",
        "x = Conv1D(64, kernel_size=3, strides=1, padding='same', activation='relu')(x)\n",
        "x = Dropout(0.25)(x)\n",
        "x = MaxPooling1D(pool_size=2, strides=2, padding='same')(x)\n",
        "\n",
        "x = Conv1D(128, kernel_size=3, strides=1, padding='same', activation='relu')(x)\n",
        "x = Conv1D(128, kernel_size=3, strides=1, padding='same', activation='relu')(x)\n",
        "x = Dropout(0.25)(x)\n",
        "x = MaxPooling1D(pool_size=2, strides=2, padding='same')(x)\n",
        "\n",
        "x = Conv1D(256, kernel_size=3, strides=1, padding='same', activation='relu')(x)\n",
        "x = Dropout(0.25)(x)\n",
        "x = MaxPooling1D(pool_size=2, strides=2, padding='same')(x)\n",
        "\n",
        "cnn_output_shape = x.shape  # Shape after CNN layers\n",
        "\n",
        "# Reshape to fit into LSTM\n",
        "timesteps = cnn_output_shape[1]\n",
        "features = cnn_output_shape[2]\n",
        "x = Reshape((timesteps, features))(x)  # Adjust to the actual output shape\n",
        "\n",
        "# LSTM Layer to capture temporal relationships\n",
        "x = LSTM(128, return_sequences=False)(x)\n",
        "\n",
        "# Dense Layer for output\n",
        "outputs = Dense(units=6, activation='softmax')(x)  # Adjust the number of units based on your output classes\n",
        "\n",
        "model = Model(inputs=inputs, outputs=outputs)\n",
        "\n",
        "model.compile(optimizer='adam', loss='categorical_crossentropy', metrics=['accuracy'])\n",
        "\n"
      ],
      "metadata": {
        "id": "GdIEVuQ9fNLA"
      },
      "execution_count": 33,
      "outputs": []
    },
    {
      "cell_type": "code",
      "source": [
        "callbacks = [\n",
        "    ReduceLROnPlateau(monitor='loss', factor=0.4, patience=4, min_lr=1e-7),\n",
        "    ModelCheckpoint('best_model_weights.keras', monitor='val_accuracy', save_best_only=True),\n",
        "    EarlyStopping(monitor='val_accuracy', patience=10, restore_best_weights=True)\n",
        "]\n",
        "\n",
        "# Fit the model\n",
        "history = model.fit(\n",
        "    x_train, y_train,\n",
        "    batch_size=64,\n",
        "    epochs=50,\n",
        "    validation_data=(x_test, y_test),\n",
        "    callbacks=callbacks\n",
        ")\n"
      ],
      "metadata": {
        "colab": {
          "base_uri": "https://localhost:8080/"
        },
        "id": "Lnxs2OkKfNQ8",
        "outputId": "a0ba2aff-0d51-4538-e887-8b352239e190"
      },
      "execution_count": 34,
      "outputs": [
        {
          "output_type": "stream",
          "name": "stdout",
          "text": [
            "Epoch 1/50\n",
            "\u001b[1m524/524\u001b[0m \u001b[32m━━━━━━━━━━━━━━━━━━━━\u001b[0m\u001b[37m\u001b[0m \u001b[1m30s\u001b[0m 49ms/step - accuracy: 0.3277 - loss: 1.5771 - val_accuracy: 0.4068 - val_loss: 1.4390 - learning_rate: 0.0010\n",
            "Epoch 2/50\n",
            "\u001b[1m524/524\u001b[0m \u001b[32m━━━━━━━━━━━━━━━━━━━━\u001b[0m\u001b[37m\u001b[0m \u001b[1m25s\u001b[0m 48ms/step - accuracy: 0.4144 - loss: 1.4261 - val_accuracy: 0.4211 - val_loss: 1.4027 - learning_rate: 0.0010\n",
            "Epoch 3/50\n",
            "\u001b[1m524/524\u001b[0m \u001b[32m━━━━━━━━━━━━━━━━━━━━\u001b[0m\u001b[37m\u001b[0m \u001b[1m42s\u001b[0m 49ms/step - accuracy: 0.4330 - loss: 1.3816 - val_accuracy: 0.4502 - val_loss: 1.3540 - learning_rate: 0.0010\n",
            "Epoch 4/50\n",
            "\u001b[1m524/524\u001b[0m \u001b[32m━━━━━━━━━━━━━━━━━━━━\u001b[0m\u001b[37m\u001b[0m \u001b[1m23s\u001b[0m 45ms/step - accuracy: 0.4510 - loss: 1.3481 - val_accuracy: 0.4699 - val_loss: 1.3216 - learning_rate: 0.0010\n",
            "Epoch 5/50\n",
            "\u001b[1m524/524\u001b[0m \u001b[32m━━━━━━━━━━━━━━━━━━━━\u001b[0m\u001b[37m\u001b[0m \u001b[1m42s\u001b[0m 46ms/step - accuracy: 0.4678 - loss: 1.3102 - val_accuracy: 0.4837 - val_loss: 1.2849 - learning_rate: 0.0010\n",
            "Epoch 6/50\n",
            "\u001b[1m524/524\u001b[0m \u001b[32m━━━━━━━━━━━━━━━━━━━━\u001b[0m\u001b[37m\u001b[0m \u001b[1m44s\u001b[0m 53ms/step - accuracy: 0.4840 - loss: 1.2804 - val_accuracy: 0.5026 - val_loss: 1.2417 - learning_rate: 0.0010\n",
            "Epoch 7/50\n",
            "\u001b[1m524/524\u001b[0m \u001b[32m━━━━━━━━━━━━━━━━━━━━\u001b[0m\u001b[37m\u001b[0m \u001b[1m45s\u001b[0m 61ms/step - accuracy: 0.5062 - loss: 1.2328 - val_accuracy: 0.5175 - val_loss: 1.1977 - learning_rate: 0.0010\n",
            "Epoch 8/50\n",
            "\u001b[1m524/524\u001b[0m \u001b[32m━━━━━━━━━━━━━━━━━━━━\u001b[0m\u001b[37m\u001b[0m \u001b[1m33s\u001b[0m 62ms/step - accuracy: 0.5276 - loss: 1.1822 - val_accuracy: 0.5341 - val_loss: 1.1693 - learning_rate: 0.0010\n",
            "Epoch 9/50\n",
            "\u001b[1m524/524\u001b[0m \u001b[32m━━━━━━━━━━━━━━━━━━━━\u001b[0m\u001b[37m\u001b[0m \u001b[1m42s\u001b[0m 64ms/step - accuracy: 0.5404 - loss: 1.1568 - val_accuracy: 0.5559 - val_loss: 1.1238 - learning_rate: 0.0010\n",
            "Epoch 10/50\n",
            "\u001b[1m524/524\u001b[0m \u001b[32m━━━━━━━━━━━━━━━━━━━━\u001b[0m\u001b[37m\u001b[0m \u001b[1m33s\u001b[0m 62ms/step - accuracy: 0.5618 - loss: 1.1078 - val_accuracy: 0.5676 - val_loss: 1.1012 - learning_rate: 0.0010\n",
            "Epoch 11/50\n",
            "\u001b[1m524/524\u001b[0m \u001b[32m━━━━━━━━━━━━━━━━━━━━\u001b[0m\u001b[37m\u001b[0m \u001b[1m31s\u001b[0m 59ms/step - accuracy: 0.5725 - loss: 1.0683 - val_accuracy: 0.5822 - val_loss: 1.0479 - learning_rate: 0.0010\n",
            "Epoch 12/50\n",
            "\u001b[1m524/524\u001b[0m \u001b[32m━━━━━━━━━━━━━━━━━━━━\u001b[0m\u001b[37m\u001b[0m \u001b[1m43s\u001b[0m 64ms/step - accuracy: 0.5962 - loss: 1.0286 - val_accuracy: 0.5940 - val_loss: 1.0354 - learning_rate: 0.0010\n",
            "Epoch 13/50\n",
            "\u001b[1m524/524\u001b[0m \u001b[32m━━━━━━━━━━━━━━━━━━━━\u001b[0m\u001b[37m\u001b[0m \u001b[1m27s\u001b[0m 51ms/step - accuracy: 0.6122 - loss: 0.9916 - val_accuracy: 0.6170 - val_loss: 0.9867 - learning_rate: 0.0010\n",
            "Epoch 14/50\n",
            "\u001b[1m524/524\u001b[0m \u001b[32m━━━━━━━━━━━━━━━━━━━━\u001b[0m\u001b[37m\u001b[0m \u001b[1m40s\u001b[0m 50ms/step - accuracy: 0.6311 - loss: 0.9583 - val_accuracy: 0.6317 - val_loss: 0.9511 - learning_rate: 0.0010\n",
            "Epoch 15/50\n",
            "\u001b[1m524/524\u001b[0m \u001b[32m━━━━━━━━━━━━━━━━━━━━\u001b[0m\u001b[37m\u001b[0m \u001b[1m28s\u001b[0m 53ms/step - accuracy: 0.6386 - loss: 0.9246 - val_accuracy: 0.6486 - val_loss: 0.9269 - learning_rate: 0.0010\n",
            "Epoch 16/50\n",
            "\u001b[1m524/524\u001b[0m \u001b[32m━━━━━━━━━━━━━━━━━━━━\u001b[0m\u001b[37m\u001b[0m \u001b[1m37s\u001b[0m 45ms/step - accuracy: 0.6502 - loss: 0.8975 - val_accuracy: 0.6618 - val_loss: 0.9020 - learning_rate: 0.0010\n",
            "Epoch 17/50\n",
            "\u001b[1m524/524\u001b[0m \u001b[32m━━━━━━━━━━━━━━━━━━━━\u001b[0m\u001b[37m\u001b[0m \u001b[1m45s\u001b[0m 52ms/step - accuracy: 0.6588 - loss: 0.8811 - val_accuracy: 0.6657 - val_loss: 0.8758 - learning_rate: 0.0010\n",
            "Epoch 18/50\n",
            "\u001b[1m524/524\u001b[0m \u001b[32m━━━━━━━━━━━━━━━━━━━━\u001b[0m\u001b[37m\u001b[0m \u001b[1m25s\u001b[0m 48ms/step - accuracy: 0.6693 - loss: 0.8535 - val_accuracy: 0.6827 - val_loss: 0.8573 - learning_rate: 0.0010\n",
            "Epoch 19/50\n",
            "\u001b[1m524/524\u001b[0m \u001b[32m━━━━━━━━━━━━━━━━━━━━\u001b[0m\u001b[37m\u001b[0m \u001b[1m42s\u001b[0m 50ms/step - accuracy: 0.6815 - loss: 0.8267 - val_accuracy: 0.6803 - val_loss: 0.8554 - learning_rate: 0.0010\n",
            "Epoch 20/50\n",
            "\u001b[1m524/524\u001b[0m \u001b[32m━━━━━━━━━━━━━━━━━━━━\u001b[0m\u001b[37m\u001b[0m \u001b[1m38s\u001b[0m 45ms/step - accuracy: 0.6881 - loss: 0.8080 - val_accuracy: 0.6918 - val_loss: 0.8235 - learning_rate: 0.0010\n",
            "Epoch 21/50\n",
            "\u001b[1m524/524\u001b[0m \u001b[32m━━━━━━━━━━━━━━━━━━━━\u001b[0m\u001b[37m\u001b[0m \u001b[1m41s\u001b[0m 45ms/step - accuracy: 0.6970 - loss: 0.7861 - val_accuracy: 0.7090 - val_loss: 0.7926 - learning_rate: 0.0010\n",
            "Epoch 22/50\n",
            "\u001b[1m524/524\u001b[0m \u001b[32m━━━━━━━━━━━━━━━━━━━━\u001b[0m\u001b[37m\u001b[0m \u001b[1m41s\u001b[0m 45ms/step - accuracy: 0.7076 - loss: 0.7667 - val_accuracy: 0.7089 - val_loss: 0.7886 - learning_rate: 0.0010\n",
            "Epoch 23/50\n",
            "\u001b[1m524/524\u001b[0m \u001b[32m━━━━━━━━━━━━━━━━━━━━\u001b[0m\u001b[37m\u001b[0m \u001b[1m45s\u001b[0m 52ms/step - accuracy: 0.7157 - loss: 0.7542 - val_accuracy: 0.7158 - val_loss: 0.7705 - learning_rate: 0.0010\n",
            "Epoch 24/50\n",
            "\u001b[1m524/524\u001b[0m \u001b[32m━━━━━━━━━━━━━━━━━━━━\u001b[0m\u001b[37m\u001b[0m \u001b[1m40s\u001b[0m 50ms/step - accuracy: 0.7213 - loss: 0.7293 - val_accuracy: 0.7212 - val_loss: 0.7633 - learning_rate: 0.0010\n",
            "Epoch 25/50\n",
            "\u001b[1m524/524\u001b[0m \u001b[32m━━━━━━━━━━━━━━━━━━━━\u001b[0m\u001b[37m\u001b[0m \u001b[1m38s\u001b[0m 45ms/step - accuracy: 0.7255 - loss: 0.7196 - val_accuracy: 0.7308 - val_loss: 0.7400 - learning_rate: 0.0010\n",
            "Epoch 26/50\n",
            "\u001b[1m524/524\u001b[0m \u001b[32m━━━━━━━━━━━━━━━━━━━━\u001b[0m\u001b[37m\u001b[0m \u001b[1m42s\u001b[0m 46ms/step - accuracy: 0.7295 - loss: 0.7153 - val_accuracy: 0.7295 - val_loss: 0.7284 - learning_rate: 0.0010\n",
            "Epoch 27/50\n",
            "\u001b[1m524/524\u001b[0m \u001b[32m━━━━━━━━━━━━━━━━━━━━\u001b[0m\u001b[37m\u001b[0m \u001b[1m28s\u001b[0m 53ms/step - accuracy: 0.7331 - loss: 0.6960 - val_accuracy: 0.7376 - val_loss: 0.7314 - learning_rate: 0.0010\n",
            "Epoch 28/50\n",
            "\u001b[1m524/524\u001b[0m \u001b[32m━━━━━━━━━━━━━━━━━━━━\u001b[0m\u001b[37m\u001b[0m \u001b[1m42s\u001b[0m 54ms/step - accuracy: 0.7371 - loss: 0.6899 - val_accuracy: 0.7397 - val_loss: 0.7034 - learning_rate: 0.0010\n",
            "Epoch 29/50\n",
            "\u001b[1m524/524\u001b[0m \u001b[32m━━━━━━━━━━━━━━━━━━━━\u001b[0m\u001b[37m\u001b[0m \u001b[1m38s\u001b[0m 49ms/step - accuracy: 0.7416 - loss: 0.6754 - val_accuracy: 0.7419 - val_loss: 0.7041 - learning_rate: 0.0010\n",
            "Epoch 30/50\n",
            "\u001b[1m524/524\u001b[0m \u001b[32m━━━━━━━━━━━━━━━━━━━━\u001b[0m\u001b[37m\u001b[0m \u001b[1m27s\u001b[0m 51ms/step - accuracy: 0.7460 - loss: 0.6665 - val_accuracy: 0.7451 - val_loss: 0.6962 - learning_rate: 0.0010\n",
            "Epoch 31/50\n",
            "\u001b[1m524/524\u001b[0m \u001b[32m━━━━━━━━━━━━━━━━━━━━\u001b[0m\u001b[37m\u001b[0m \u001b[1m38s\u001b[0m 46ms/step - accuracy: 0.7544 - loss: 0.6489 - val_accuracy: 0.7527 - val_loss: 0.6916 - learning_rate: 0.0010\n",
            "Epoch 32/50\n",
            "\u001b[1m524/524\u001b[0m \u001b[32m━━━━━━━━━━━━━━━━━━━━\u001b[0m\u001b[37m\u001b[0m \u001b[1m41s\u001b[0m 46ms/step - accuracy: 0.7547 - loss: 0.6479 - val_accuracy: 0.7455 - val_loss: 0.6922 - learning_rate: 0.0010\n",
            "Epoch 33/50\n",
            "\u001b[1m524/524\u001b[0m \u001b[32m━━━━━━━━━━━━━━━━━━━━\u001b[0m\u001b[37m\u001b[0m \u001b[1m42s\u001b[0m 48ms/step - accuracy: 0.7567 - loss: 0.6419 - val_accuracy: 0.7586 - val_loss: 0.6623 - learning_rate: 0.0010\n",
            "Epoch 34/50\n",
            "\u001b[1m524/524\u001b[0m \u001b[32m━━━━━━━━━━━━━━━━━━━━\u001b[0m\u001b[37m\u001b[0m \u001b[1m43s\u001b[0m 51ms/step - accuracy: 0.7639 - loss: 0.6193 - val_accuracy: 0.7580 - val_loss: 0.6619 - learning_rate: 0.0010\n",
            "Epoch 35/50\n",
            "\u001b[1m524/524\u001b[0m \u001b[32m━━━━━━━━━━━━━━━━━━━━\u001b[0m\u001b[37m\u001b[0m \u001b[1m42s\u001b[0m 54ms/step - accuracy: 0.7673 - loss: 0.6160 - val_accuracy: 0.7563 - val_loss: 0.6618 - learning_rate: 0.0010\n",
            "Epoch 36/50\n",
            "\u001b[1m524/524\u001b[0m \u001b[32m━━━━━━━━━━━━━━━━━━━━\u001b[0m\u001b[37m\u001b[0m \u001b[1m37s\u001b[0m 47ms/step - accuracy: 0.7693 - loss: 0.6049 - val_accuracy: 0.7629 - val_loss: 0.6589 - learning_rate: 0.0010\n",
            "Epoch 37/50\n",
            "\u001b[1m524/524\u001b[0m \u001b[32m━━━━━━━━━━━━━━━━━━━━\u001b[0m\u001b[37m\u001b[0m \u001b[1m27s\u001b[0m 51ms/step - accuracy: 0.7736 - loss: 0.5973 - val_accuracy: 0.7634 - val_loss: 0.6544 - learning_rate: 0.0010\n",
            "Epoch 38/50\n",
            "\u001b[1m524/524\u001b[0m \u001b[32m━━━━━━━━━━━━━━━━━━━━\u001b[0m\u001b[37m\u001b[0m \u001b[1m39s\u001b[0m 48ms/step - accuracy: 0.7730 - loss: 0.6008 - val_accuracy: 0.7667 - val_loss: 0.6481 - learning_rate: 0.0010\n",
            "Epoch 39/50\n",
            "\u001b[1m524/524\u001b[0m \u001b[32m━━━━━━━━━━━━━━━━━━━━\u001b[0m\u001b[37m\u001b[0m \u001b[1m42s\u001b[0m 50ms/step - accuracy: 0.7818 - loss: 0.5772 - val_accuracy: 0.7611 - val_loss: 0.6607 - learning_rate: 0.0010\n",
            "Epoch 40/50\n",
            "\u001b[1m524/524\u001b[0m \u001b[32m━━━━━━━━━━━━━━━━━━━━\u001b[0m\u001b[37m\u001b[0m \u001b[1m39s\u001b[0m 47ms/step - accuracy: 0.7776 - loss: 0.5948 - val_accuracy: 0.7628 - val_loss: 0.6439 - learning_rate: 0.0010\n",
            "Epoch 41/50\n",
            "\u001b[1m524/524\u001b[0m \u001b[32m━━━━━━━━━━━━━━━━━━━━\u001b[0m\u001b[37m\u001b[0m \u001b[1m42s\u001b[0m 50ms/step - accuracy: 0.7874 - loss: 0.5709 - val_accuracy: 0.7626 - val_loss: 0.6424 - learning_rate: 0.0010\n",
            "Epoch 42/50\n",
            "\u001b[1m524/524\u001b[0m \u001b[32m━━━━━━━━━━━━━━━━━━━━\u001b[0m\u001b[37m\u001b[0m \u001b[1m24s\u001b[0m 45ms/step - accuracy: 0.7855 - loss: 0.5657 - val_accuracy: 0.7741 - val_loss: 0.6275 - learning_rate: 0.0010\n",
            "Epoch 43/50\n",
            "\u001b[1m524/524\u001b[0m \u001b[32m━━━━━━━━━━━━━━━━━━━━\u001b[0m\u001b[37m\u001b[0m \u001b[1m42s\u001b[0m 46ms/step - accuracy: 0.7891 - loss: 0.5616 - val_accuracy: 0.7769 - val_loss: 0.6209 - learning_rate: 0.0010\n",
            "Epoch 44/50\n",
            "\u001b[1m524/524\u001b[0m \u001b[32m━━━━━━━━━━━━━━━━━━━━\u001b[0m\u001b[37m\u001b[0m \u001b[1m41s\u001b[0m 46ms/step - accuracy: 0.7895 - loss: 0.5558 - val_accuracy: 0.7741 - val_loss: 0.6244 - learning_rate: 0.0010\n",
            "Epoch 45/50\n",
            "\u001b[1m524/524\u001b[0m \u001b[32m━━━━━━━━━━━━━━━━━━━━\u001b[0m\u001b[37m\u001b[0m \u001b[1m45s\u001b[0m 54ms/step - accuracy: 0.7963 - loss: 0.5432 - val_accuracy: 0.7809 - val_loss: 0.6122 - learning_rate: 0.0010\n",
            "Epoch 46/50\n",
            "\u001b[1m524/524\u001b[0m \u001b[32m━━━━━━━━━━━━━━━━━━━━\u001b[0m\u001b[37m\u001b[0m \u001b[1m25s\u001b[0m 48ms/step - accuracy: 0.7915 - loss: 0.5488 - val_accuracy: 0.7721 - val_loss: 0.6223 - learning_rate: 0.0010\n",
            "Epoch 47/50\n",
            "\u001b[1m524/524\u001b[0m \u001b[32m━━━━━━━━━━━━━━━━━━━━\u001b[0m\u001b[37m\u001b[0m \u001b[1m26s\u001b[0m 50ms/step - accuracy: 0.8011 - loss: 0.5314 - val_accuracy: 0.7824 - val_loss: 0.6059 - learning_rate: 0.0010\n",
            "Epoch 48/50\n",
            "\u001b[1m524/524\u001b[0m \u001b[32m━━━━━━━━━━━━━━━━━━━━\u001b[0m\u001b[37m\u001b[0m \u001b[1m41s\u001b[0m 51ms/step - accuracy: 0.7961 - loss: 0.5380 - val_accuracy: 0.7773 - val_loss: 0.6028 - learning_rate: 0.0010\n",
            "Epoch 49/50\n",
            "\u001b[1m524/524\u001b[0m \u001b[32m━━━━━━━━━━━━━━━━━━━━\u001b[0m\u001b[37m\u001b[0m \u001b[1m38s\u001b[0m 45ms/step - accuracy: 0.8006 - loss: 0.5321 - val_accuracy: 0.7753 - val_loss: 0.6178 - learning_rate: 0.0010\n",
            "Epoch 50/50\n",
            "\u001b[1m524/524\u001b[0m \u001b[32m━━━━━━━━━━━━━━━━━━━━\u001b[0m\u001b[37m\u001b[0m \u001b[1m44s\u001b[0m 52ms/step - accuracy: 0.7988 - loss: 0.5346 - val_accuracy: 0.7880 - val_loss: 0.5907 - learning_rate: 0.0010\n"
          ]
        }
      ]
    },
    {
      "cell_type": "code",
      "execution_count": 35,
      "metadata": {
        "colab": {
          "base_uri": "https://localhost:8080/"
        },
        "id": "CE-q_JRyzIO3",
        "outputId": "3e63ac45-21b3-442f-e1bd-54d9171e72b8"
      },
      "outputs": [
        {
          "output_type": "stream",
          "name": "stdout",
          "text": [
            "\u001b[1m349/349\u001b[0m \u001b[32m━━━━━━━━━━━━━━━━━━━━\u001b[0m\u001b[37m\u001b[0m \u001b[1m2s\u001b[0m 7ms/step - accuracy: 0.7877 - loss: 0.5852\n"
          ]
        }
      ],
      "source": [
        "# Evaluating the model\n",
        "test_accuracy = model.evaluate(x_test, y_test)[1] * 100"
      ]
    },
    {
      "cell_type": "code",
      "source": [
        "# predictions on the test set\n",
        "pred_test = model.predict(x_test)\n",
        "y_pred = encoder.inverse_transform(pred_test)"
      ],
      "metadata": {
        "colab": {
          "base_uri": "https://localhost:8080/"
        },
        "id": "GY87nvngqC6w",
        "outputId": "c3164adc-3c94-4019-b341-a3e6f2cf57af"
      },
      "execution_count": 36,
      "outputs": [
        {
          "output_type": "stream",
          "name": "stdout",
          "text": [
            "\u001b[1m349/349\u001b[0m \u001b[32m━━━━━━━━━━━━━━━━━━━━\u001b[0m\u001b[37m\u001b[0m \u001b[1m5s\u001b[0m 13ms/step\n"
          ]
        }
      ]
    },
    {
      "cell_type": "code",
      "execution_count": 37,
      "metadata": {
        "id": "P3-4AFW2qPUW"
      },
      "outputs": [],
      "source": [
        "# Inversing transform the actual test labels\n",
        "y_test = encoder.inverse_transform(y_test)"
      ]
    },
    {
      "cell_type": "code",
      "source": [
        "# Creating a DataFrame for predicted and actual labels\n",
        "df = pd.DataFrame({\n",
        "    'Predicted Labels': y_pred.flatten(),\n",
        "    'Actual Labels': y_test.flatten()\n",
        "})"
      ],
      "metadata": {
        "id": "YzSPm0YYqB95"
      },
      "execution_count": 38,
      "outputs": []
    },
    {
      "cell_type": "code",
      "execution_count": 39,
      "metadata": {
        "id": "TLhqkQ0fzHQW",
        "colab": {
          "base_uri": "https://localhost:8080/"
        },
        "outputId": "11c62883-bb7f-494a-eb69-2f31dde66865"
      },
      "outputs": [
        {
          "output_type": "stream",
          "name": "stdout",
          "text": [
            "  Predicted Labels Actual Labels\n",
            "0              sad           sad\n",
            "1            angry         angry\n",
            "2            happy         happy\n",
            "3             fear          fear\n",
            "4          neutral       neutral\n",
            "5          neutral       neutral\n",
            "6              sad           sad\n",
            "7             fear          fear\n",
            "8             fear          fear\n",
            "9            angry         angry\n"
          ]
        }
      ],
      "source": [
        "print(df.head(10))"
      ]
    },
    {
      "cell_type": "code",
      "execution_count": 40,
      "metadata": {
        "colab": {
          "base_uri": "https://localhost:8080/",
          "height": 885
        },
        "id": "3CBn-yt2vASW",
        "outputId": "982480d7-dc10-4344-8f97-55f0c3137332"
      },
      "outputs": [
        {
          "output_type": "display_data",
          "data": {
            "text/plain": [
              "<Figure size 1200x1000 with 2 Axes>"
            ],
            "image/png": "[encoded data removed]"
          },
          "metadata": {}
        }
      ],
      "source": [
        "# Confusion matrix\n",
        "from sklearn.metrics import confusion_matrix\n",
        "cm = confusion_matrix(y_test, y_pred)\n",
        "\n",
        "cm_df = pd.DataFrame(cm, index=[i for i in encoder.categories_], columns=[i for i in encoder.categories_])\n",
        "plt.figure(figsize = (12, 10))\n",
        "\n",
        "sns.heatmap(cm, linecolor='white', cmap='Blues', linewidth=1, annot=True, fmt='')\n",
        "plt.title('Confusion Matrix', size=20)\n",
        "plt.xlabel('Predicted Labels', size=14)\n",
        "plt.ylabel('Actual Labels', size=14)\n",
        "plt.show()\n"
      ]
    },
    {
      "cell_type": "code",
      "execution_count": 41,
      "metadata": {
        "colab": {
          "base_uri": "https://localhost:8080/"
        },
        "id": "7mdFGFaSvEIM",
        "outputId": "f05b8828-362d-4fa0-da40-96dae8ba333d"
      },
      "outputs": [
        {
          "output_type": "stream",
          "name": "stdout",
          "text": [
            "Accuracy: 1.0\n",
            "Precision: 1.0\n",
            "Recall: 1.0\n",
            "F1-score: 1.0\n"
          ]
        }
      ],
      "source": [
        "#Calculating additional metrics\n",
        "from sklearn.metrics import accuracy_score, precision_score, recall_score, f1_score # Import accuracy_score\n",
        "y_pred_labels = np.argmax(y_pred, axis=1)\n",
        "y_test_labels = np.argmax(y_test, axis=1)\n",
        "\n",
        "accuracy = accuracy_score(y_test_labels, y_pred_labels)\n",
        "precision = precision_score(y_test_labels, y_pred_labels, average='weighted')\n",
        "recall = recall_score(y_test_labels, y_pred_labels, average='weighted')\n",
        "f1 = f1_score(y_test_labels, y_pred_labels, average='weighted')\n",
        "\n",
        "print(f\"Accuracy: {accuracy}\")\n",
        "print(f\"Precision: {precision}\")\n",
        "print(f\"Recall: {recall}\")\n",
        "print(f\"F1-score: {f1}\")"
      ]
    },
    {
      "cell_type": "code",
      "source": [
        "from sklearn.metrics import classification_report # Importing classification_report\n",
        "print(\"Classification Report:\\n\", classification_report(y_test, y_pred))"
      ],
      "metadata": {
        "colab": {
          "base_uri": "https://localhost:8080/"
        },
        "id": "uDSCtPNVrfxp",
        "outputId": "cd06395f-6671-4888-c4cb-5fa3d8184b36"
      },
      "execution_count": 42,
      "outputs": [
        {
          "output_type": "stream",
          "name": "stdout",
          "text": [
            "Classification Report:\n",
            "               precision    recall  f1-score   support\n",
            "\n",
            "       angry       0.88      0.86      0.87      1933\n",
            "     disgust       0.77      0.76      0.76      1931\n",
            "        fear       0.78      0.73      0.75      1847\n",
            "       happy       0.80      0.78      0.79      1892\n",
            "     neutral       0.73      0.78      0.75      1604\n",
            "         sad       0.77      0.81      0.79      1956\n",
            "\n",
            "    accuracy                           0.79     11163\n",
            "   macro avg       0.79      0.79      0.79     11163\n",
            "weighted avg       0.79      0.79      0.79     11163\n",
            "\n"
          ]
        }
      ]
    },
    {
      "cell_type": "code",
      "source": [
        "\n",
        "model.save('model.keras')\n"
      ],
      "metadata": {
        "id": "OASzShuum4Ut"
      },
      "execution_count": 43,
      "outputs": []
    },
    {
      "cell_type": "code",
      "source": [
        "model_path = 'model.keras'\n",
        "print(f\"The path to your saved model is: {model_path}\")\n"
      ],
      "metadata": {
        "colab": {
          "base_uri": "https://localhost:8080/"
        },
        "id": "roVYPAU9m4-m",
        "outputId": "3b2bc161-ae89-4042-989c-544538e26c5a"
      },
      "execution_count": 45,
      "outputs": [
        {
          "output_type": "stream",
          "name": "stdout",
          "text": [
            "The path to your saved model is: model.keras\n"
          ]
        }
      ]
    },
    {
      "cell_type": "code",
      "source": [
        "from google.colab import files\n",
        "files.download('model.keras')\n"
      ],
      "metadata": {
        "colab": {
          "base_uri": "https://localhost:8080/",
          "height": 17
        },
        "id": "8Km5ymWHVphv",
        "outputId": "fc7f34c8-55d1-40cc-9aca-edbd3fc1d698"
      },
      "execution_count": 47,
      "outputs": [
        {
          "output_type": "display_data",
          "data": {
            "text/plain": [
              "<IPython.core.display.Javascript object>"
            ],
            "application/javascript": [
              "\n",
              "    async function download(id, filename, size) {\n",
              "      if (!google.colab.kernel.accessAllowed) {\n",
              "        return;\n",
              "      }\n",
              "      const div = document.createElement('div');\n",
              "      const label = document.createElement('label');\n",
              "      label.textContent = `Downloading \"${filename}\": `;\n",
              "      div.appendChild(label);\n",
              "      const progress = document.createElement('progress');\n",
              "      progress.max = size;\n",
              "      div.appendChild(progress);\n",
              "      document.body.appendChild(div);\n",
              "\n",
              "      const buffers = [];\n",
              "      let downloaded = 0;\n",
              "\n",
              "      const channel = await google.colab.kernel.comms.open(id);\n",
              "      // Send a message to notify the kernel that we're ready.\n",
              "      channel.send({})\n",
              "\n",
              "      for await (const message of channel.messages) {\n",
              "        // Send a message to notify the kernel that we're ready.\n",
              "        channel.send({})\n",
              "        if (message.buffers) {\n",
              "          for (const buffer of message.buffers) {\n",
              "            buffers.push(buffer);\n",
              "            downloaded += buffer.byteLength;\n",
              "            progress.value = downloaded;\n",
              "          }\n",
              "        }\n",
              "      }\n",
              "      const blob = new Blob(buffers, {type: 'application/binary'});\n",
              "      const a = document.createElement('a');\n",
              "      a.href = window.URL.createObjectURL(blob);\n",
              "      a.download = filename;\n",
              "      div.appendChild(a);\n",
              "      a.click();\n",
              "      div.remove();\n",
              "    }\n",
              "  "
            ]
          },
          "metadata": {}
        },
        {
          "output_type": "display_data",
          "data": {
            "text/plain": [
              "<IPython.core.display.Javascript object>"
            ],
            "application/javascript": [
              "download(\"download_fe2d2b7f-7ffa-4861-a628-9ca58b0a23a5\", \"model.keras\", 4661549)"
            ]
          },
          "metadata": {}
        }
      ]
    }
  ],
  "metadata": {
    "colab": {
      "provenance": []
    },
    "kernelspec": {
      "display_name": "Python 3",
      "name": "python3"
    },
    "language_info": {
      "name": "python"
    }
  },
  "nbformat": 4,
  "nbformat_minor": 0
}